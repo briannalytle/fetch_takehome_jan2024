{
 "cells": [
  {
   "cell_type": "markdown",
   "metadata": {},
   "source": [
    "**Fetch Rewards Coding Exercise**\n",
    "\n",
    "Pt3 - Data Quality\n",
    "\n",
    "Section 1 - Brands Identifiers"
   ]
  },
  {
   "cell_type": "code",
   "execution_count": 68,
   "metadata": {},
   "outputs": [],
   "source": [
    "import pandas as pd\n",
    "import numpy as np\n",
    "import matplotlib.pyplot as pyplot\n",
    "import seaborn as sns\n",
    "\n",
    "import duckdb"
   ]
  },
  {
   "cell_type": "markdown",
   "metadata": {},
   "source": [
    "* [Overview](#Overview)\n",
    "    * [Pt.1 barcode Review](#barcode)\n",
    "    * [Pt.2 brandCode Review](#brandCode)\n",
    "    * [Pt.3 - (brand) names Review](#names)"
   ]
  },
  {
   "cell_type": "markdown",
   "metadata": {},
   "source": [
    "# Overview <a class=\"anchor\" id=\"Overview\"></a>\n",
    "**Evaluating BarCode vs. BrandCode + and exploring df_brands['name']**\n",
    "\n",
    "Background: \n",
    "- Brands contains the following values based on the documentation provided\n",
    "    - barcode - barcode on the item\n",
    "    - brandCode - String that corresponds with the brand column in a partner product file\n",
    "- While we expecct barcode to match the item within the barcode value of df_receipts['rewardsReceiptItemList'], in our analysis, we found that there are no overlapping values within this dataset\n",
    "- brandCode from df_receipts only had 18% of overlapping values.\n",
    "\n",
    "Why This Matters:\n",
    "- The absence of overlapping barcode values raises the concern that either (i) barcodes aren't being correctly logged/imported from receipts or (ii) there is a missing source of truth on how barcodes are defined within df_brands\n",
    "- While it's good to see some overlap between the two tables on brandCode, 18% is EXTREAMLY small. There prevents us from understanding and analyzing our data. "
   ]
  },
  {
   "cell_type": "markdown",
   "metadata": {},
   "source": [
    "------------------------"
   ]
  },
  {
   "cell_type": "code",
   "execution_count": 69,
   "metadata": {},
   "outputs": [],
   "source": [
    "df_brands = pd.read_json('brands.gz', lines=True, compression='gzip')\n",
    "df_receipts = pd.read_json('receipts.gz', lines=True, compression='gzip')\n",
    "df_users = pd.read_json('users.gz', lines=True, compression='gzip')"
   ]
  },
  {
   "cell_type": "code",
   "execution_count": null,
   "metadata": {},
   "outputs": [],
   "source": [
    "df_receipts = df_receipts.explode('rewardsReceiptItemList')\n",
    "df_receipts = pd.concat([df_receipts.drop(['rewardsReceiptItemList'], axis=1), df_receipts['rewardsReceiptItemList'].apply(pd.Series)], axis=1)"
   ]
  },
  {
   "cell_type": "markdown",
   "metadata": {},
   "source": [
    "## Pt.1 | Barcode Comparisons <a id=\"barcode\"></a>\n",
    "Comparing barcodes in df_receipts vs. df_brands\n",
    "\n",
    "**Summary:** \n",
    "- Only 3% of barcodes within receipts are found in the df_brands.\n",
    "- df_brands['barcode'] values maintain a pattern of (i) 12 digits and (ii) start with '511111'\n",
    "- df_receipts['barcode'] vary in pattern and length "
   ]
  },
  {
   "cell_type": "code",
   "execution_count": 53,
   "metadata": {},
   "outputs": [],
   "source": [
    "unique_receipts_barcodes = df_receipts['barcode'].dropna().unique()\n",
    "unique_brands_barcodes = df_brands['barcode'].unique()"
   ]
  },
  {
   "cell_type": "code",
   "execution_count": 55,
   "metadata": {},
   "outputs": [
    {
     "name": "stdout",
     "output_type": "stream",
     "text": [
      "Total barcodes in receipts: 569\n",
      "Total barcodes in brands: 1160\n",
      "Barcodes in receipts not found in brands: 553\n",
      "Barcodes in BRANDS not found in RECEIPTS: 1144\n"
     ]
    }
   ],
   "source": [
    "# Identifying for overlap of barcode in df_receipts vs. df_brands\n",
    "missing_barcodes = set(unique_receipts_barcodes) - set(unique_brands_barcodes)\n",
    "missing_brands_nonreceipts = set(unique_brands_barcodes) - set(unique_receipts_barcodes)\n",
    "print(f\"Total barcodes in receipts: {len(unique_receipts_barcodes)}\")\n",
    "print(f\"Total barcodes in brands: {len(unique_brands_barcodes)}\")\n",
    "print(f\"Barcodes in receipts not found in brands: {len(missing_barcodes)}\")\n",
    "print(f\"Barcodes in BRANDS not found in RECEIPTS: {len(missing_brands_nonreceipts)}\")\n",
    "# if missing_barcodes:\n",
    "#     print(\"Some missing barcodes:\", list(missing_barcodes)[:10])  # Show the first 10 missing barcodes as an example\n",
    "# else:\n",
    "#     print(\"No missing barcodes. All items in receipts have a matching brand barcode.\")"
   ]
  },
  {
   "cell_type": "code",
   "execution_count": 60,
   "metadata": {},
   "outputs": [
    {
     "name": "stdout",
     "output_type": "stream",
     "text": [
      "524     511111001324\n",
      "276     511111700029\n",
      "1100    511111515807\n",
      "352     511111405535\n",
      "1156    511111617853\n",
      "701     511111100348\n",
      "901     511111719724\n",
      "586     511111502937\n",
      "1118    511111015741\n",
      "29      511111315957\n",
      "Name: barcode, dtype: int64\n"
     ]
    }
   ],
   "source": [
    "#quick look at how barcodes look like in df_brands\n",
    "print(df_brands['barcode'].sample(10))"
   ]
  },
  {
   "cell_type": "code",
   "execution_count": 62,
   "metadata": {},
   "outputs": [
    {
     "name": "stdout",
     "output_type": "stream",
     "text": [
      "419    012000809941\n",
      "543             NaN\n",
      "543             NaN\n",
      "870             NaN\n",
      "543             NaN\n",
      "306    021000604647\n",
      "427             NaN\n",
      "292    075925306254\n",
      "543             NaN\n",
      "409             NaN\n",
      "Name: barcode, dtype: object\n"
     ]
    }
   ],
   "source": [
    "#quick look at how barcodes look like in df_receipts\n",
    "print(df_receipts['barcode'].sample(10))"
   ]
  },
  {
   "cell_type": "code",
   "execution_count": 63,
   "metadata": {},
   "outputs": [
    {
     "name": "stdout",
     "output_type": "stream",
     "text": [
      "Brands Barcode Lengths:\n",
      " 12    1167\n",
      "Name: barcode_length, dtype: int64\n",
      "Receipts Barcode Lengths:\n",
      " 3     4291\n",
      "12    2619\n",
      "4      332\n",
      "10      82\n",
      "11      46\n",
      "13       8\n",
      "5        2\n",
      "2        1\n",
      "Name: barcode_length, dtype: int64\n"
     ]
    }
   ],
   "source": [
    "#Let's compare the patterns of barcode in the tables\n",
    "\n",
    "df_brands['barcode'] = df_brands['barcode'].astype(str)\n",
    "df_receipts['barcode'] = df_receipts['barcode'].astype(str)\n",
    "\n",
    "df_brands['barcode_length'] = df_brands['barcode'].apply(len)\n",
    "df_receipts['barcode_length'] = df_receipts['barcode'].apply(len)\n",
    "\n",
    "# Summary of barcode lengths and sample values\n",
    "brands_length_summary = df_brands['barcode_length'].value_counts()\n",
    "receipts_length_summary = df_receipts['barcode_length'].value_counts()\n",
    "\n",
    "print(\"Brands Barcode Lengths:\\n\", brands_length_summary)\n",
    "print(\"Receipts Barcode Lengths:\\n\", receipts_length_summary)\n",
    "# print(\"Sample Barcodes from Brands:\\n\", df_brands['barcode'].dropna().sample(10))\n",
    "# print(\"Sample Barcodes from Receipts:\\n\", df_receipts['barcode'].dropna().sample(10))"
   ]
  },
  {
   "cell_type": "markdown",
   "metadata": {},
   "source": [
    "**Pt.1 Intial Observations:**\n",
    "- There is some overlap between the barcodes in df_brands vs. df_receipts.\n",
    "- df_receipt barcodes show us that (i) there are a lot of receipts with missing barcode values and (ii) the barcodes have varying patterns and lengths\n",
    "- df_brands['barcode] all seem to follow a similar patterns of 12 digits starting with '511111'"
   ]
  },
  {
   "cell_type": "code",
   "execution_count": 65,
   "metadata": {},
   "outputs": [
    {
     "name": "stdout",
     "output_type": "stream",
     "text": [
      "Total valid-length barcodes in receipts: 2619\n",
      "Matching barcodes between receipts and brands: 82\n",
      "Sample of matching barcodes: 321    511111001485\n",
      "469    511111904175\n",
      "423    511111101451\n",
      "425    511111802358\n",
      "310    511111104537\n",
      "324    511111204206\n",
      "543    511111004127\n",
      "462    511111902690\n",
      "309    511111001485\n",
      "543    511111802358\n",
      "Name: barcode, dtype: object\n"
     ]
    }
   ],
   "source": [
    "valid_receipts_barcode = df_receipts[df_receipts['barcode_length'] == 12]['barcode']\n",
    "matching_barcodes = valid_receipts_barcode[valid_receipts_barcode.isin(df_brands['barcode'])]\n",
    "print(f\"Total valid-length barcodes in receipts: {len(valid_receipts_barcode)}\")\n",
    "print(f\"Matching barcodes between receipts and brands: {len(matching_barcodes)}\")\n",
    "if not matching_barcodes.empty:\n",
    "    print(\"Sample of matching barcodes:\", matching_barcodes.sample(min(10, len(matching_barcodes))))\n",
    "else:\n",
    "    pass"
   ]
  },
  {
   "cell_type": "markdown",
   "metadata": {},
   "source": [
    "-------------------------------------------"
   ]
  },
  {
   "cell_type": "markdown",
   "metadata": {},
   "source": [
    "## Pt.2 | brandCode Comparisons <a id=\"brandcode\"></a>\n",
    "Comparing brandCode in df_receipts vs. df_brands\n",
    "\n",
    "**Summary:**\n",
    "- 18% of brand_code in df_receipts are found in df_brands\n",
    "- There are a lot of TEST brandcodes within df_brands"
   ]
  },
  {
   "cell_type": "code",
   "execution_count": 57,
   "metadata": {},
   "outputs": [
    {
     "name": "stdout",
     "output_type": "stream",
     "text": [
      "Total barcodes in receipts: 227\n",
      "Total barcodes in brands: 897\n",
      "brandCode in receipts not found in brands: 186\n",
      "brandCode in BRANDS not found in RECEIPTS: 856\n"
     ]
    }
   ],
   "source": [
    "unique_receipts_brandcode = df_receipts['brandCode'].dropna().unique()\n",
    "unique_brands_brandcode = df_brands['brandCode'].dropna().unique()\n",
    "\n",
    "# Identifying for overlap of brandCode in df_receipts vs. df_brands\n",
    "missing_brandCode_receiptsnonbrand = set(unique_receipts_brandcode) - set(unique_brands_brandcode)\n",
    "missing_brandcode_brandnonreceipts = set(unique_brands_brandcode) - set(unique_receipts_brandcode)\n",
    "\n",
    "print(f\"Total barcodes in receipts: {len(unique_receipts_brandcode)}\")\n",
    "print(f\"Total barcodes in brands: {len(unique_brands_brandcode)}\")\n",
    "print(f\"brandCode in receipts not found in brands: {len(missing_brandCode_receiptsnonbrand)}\")\n",
    "print(f\"brandCode in BRANDS not found in RECEIPTS: {len(missing_brandcode_brandnonreceipts)}\")"
   ]
  },
  {
   "cell_type": "code",
   "execution_count": 51,
   "metadata": {},
   "outputs": [
    {
     "name": "stdout",
     "output_type": "stream",
     "text": [
      "1042    TEST BRANDCODE @1598290604214\n",
      "323     TEST BRANDCODE @1598633693767\n",
      "758              ABSOLUT® JUICE APPLE\n",
      "836     TEST BRANDCODE @1599097539367\n",
      "747                               NaN\n",
      "398     TEST BRANDCODE @1597350074404\n",
      "725                               NaN\n",
      "265                   COLORADO NATIVE\n",
      "549     TEST BRANDCODE @1610493497005\n",
      "793                     STUBBORN SODA\n",
      "Name: brandCode, dtype: object\n"
     ]
    }
   ],
   "source": [
    "#quick look at how brandCode look like in df_brands\n",
    "print(df_brands['brandCode'].sample(10))"
   ]
  },
  {
   "cell_type": "code",
   "execution_count": 67,
   "metadata": {},
   "outputs": [],
   "source": [
    "#quick look at how brandCode look like in df_receipts\n",
    "# print(df_receipts['brandCode'].sample(10))"
   ]
  },
  {
   "cell_type": "markdown",
   "metadata": {},
   "source": [
    "------------------------------------------------------"
   ]
  },
  {
   "cell_type": "markdown",
   "metadata": {},
   "source": [
    "## Pt3 | df_brands['name'] Exploration <a id=\"names\"></a>\n",
    "\n",
    "**Summary**:\n",
    "- A lot of \"test brand @...\" values within 'name'\n",
    "-  brand 'name' that contain a null value in brandCode"
   ]
  },
  {
   "cell_type": "code",
   "execution_count": 39,
   "metadata": {},
   "outputs": [
    {
     "data": {
      "text/plain": [
       "230                             .\n",
       "861          1915 Bolthouse Farms\n",
       "725           1_KRAFT Hockeyville\n",
       "723                          7 up\n",
       "61                   A&W Rootbeer\n",
       "                  ...            \n",
       "5       test brand @1612366146091\n",
       "6       test brand @1612366146133\n",
       "2       test brand @1612366146176\n",
       "4       test brand @1612366146827\n",
       "1166    test brand @1613158231643\n",
       "Name: name, Length: 1167, dtype: object"
      ]
     },
     "execution_count": 39,
     "metadata": {},
     "output_type": "execute_result"
    }
   ],
   "source": [
    "df_brands['name'].sort_values()"
   ]
  },
  {
   "cell_type": "code",
   "execution_count": 49,
   "metadata": {},
   "outputs": [
    {
     "data": {
      "text/html": [
       "<div>\n",
       "<style scoped>\n",
       "    .dataframe tbody tr th:only-of-type {\n",
       "        vertical-align: middle;\n",
       "    }\n",
       "\n",
       "    .dataframe tbody tr th {\n",
       "        vertical-align: top;\n",
       "    }\n",
       "\n",
       "    .dataframe thead th {\n",
       "        text-align: right;\n",
       "    }\n",
       "</style>\n",
       "<table border=\"1\" class=\"dataframe\">\n",
       "  <thead>\n",
       "    <tr style=\"text-align: right;\">\n",
       "      <th></th>\n",
       "      <th>name</th>\n",
       "      <th>brandCode</th>\n",
       "    </tr>\n",
       "  </thead>\n",
       "  <tbody>\n",
       "    <tr>\n",
       "      <th>574</th>\n",
       "      <td>Baken-Ets</td>\n",
       "      <td>BAKEN ETS</td>\n",
       "    </tr>\n",
       "    <tr>\n",
       "      <th>176</th>\n",
       "      <td>I CAN'T BELIEVE IT'S NOT BUTTER!</td>\n",
       "      <td>I CAN'T BELIEVE IT'S NOT BUTTER!</td>\n",
       "    </tr>\n",
       "    <tr>\n",
       "      <th>438</th>\n",
       "      <td>test brand @1610038527809</td>\n",
       "      <td>NaN</td>\n",
       "    </tr>\n",
       "    <tr>\n",
       "      <th>560</th>\n",
       "      <td>test brand @1608313051244</td>\n",
       "      <td>TEST BRANDCODE @1608313051244</td>\n",
       "    </tr>\n",
       "    <tr>\n",
       "      <th>1015</th>\n",
       "      <td>Diet Chris Cola</td>\n",
       "      <td>DIETCHRIS2</td>\n",
       "    </tr>\n",
       "    <tr>\n",
       "      <th>231</th>\n",
       "      <td>Frosted Flakes</td>\n",
       "      <td>NaN</td>\n",
       "    </tr>\n",
       "    <tr>\n",
       "      <th>1049</th>\n",
       "      <td>test brand @1598633602226</td>\n",
       "      <td>TEST BRANDCODE @1598633602226</td>\n",
       "    </tr>\n",
       "    <tr>\n",
       "      <th>1002</th>\n",
       "      <td>Prego</td>\n",
       "      <td>PREGO</td>\n",
       "    </tr>\n",
       "    <tr>\n",
       "      <th>347</th>\n",
       "      <td>Berroca®</td>\n",
       "      <td>BERROCA®</td>\n",
       "    </tr>\n",
       "    <tr>\n",
       "      <th>405</th>\n",
       "      <td>test brand @1601939762881</td>\n",
       "      <td>TEST BRANDCODE @1601939762881</td>\n",
       "    </tr>\n",
       "    <tr>\n",
       "      <th>722</th>\n",
       "      <td>Pasta Roni</td>\n",
       "      <td>PASTA RONI</td>\n",
       "    </tr>\n",
       "    <tr>\n",
       "      <th>558</th>\n",
       "      <td>test brand @1608313069400</td>\n",
       "      <td>NaN</td>\n",
       "    </tr>\n",
       "    <tr>\n",
       "      <th>61</th>\n",
       "      <td>A&amp;W Rootbeer</td>\n",
       "      <td>NaN</td>\n",
       "    </tr>\n",
       "    <tr>\n",
       "      <th>140</th>\n",
       "      <td>Caleb's Kola</td>\n",
       "      <td>CALEB'S KOLA</td>\n",
       "    </tr>\n",
       "    <tr>\n",
       "      <th>634</th>\n",
       "      <td>test brand @1601939762909</td>\n",
       "      <td>TEST BRANDCODE @1601939762909</td>\n",
       "    </tr>\n",
       "  </tbody>\n",
       "</table>\n",
       "</div>"
      ],
      "text/plain": [
       "                                  name                         brandCode\n",
       "574                          Baken-Ets                         BAKEN ETS\n",
       "176   I CAN'T BELIEVE IT'S NOT BUTTER!  I CAN'T BELIEVE IT'S NOT BUTTER!\n",
       "438          test brand @1610038527809                               NaN\n",
       "560          test brand @1608313051244     TEST BRANDCODE @1608313051244\n",
       "1015                   Diet Chris Cola                        DIETCHRIS2\n",
       "231                     Frosted Flakes                               NaN\n",
       "1049         test brand @1598633602226     TEST BRANDCODE @1598633602226\n",
       "1002                             Prego                             PREGO\n",
       "347                           Berroca®                          BERROCA®\n",
       "405          test brand @1601939762881     TEST BRANDCODE @1601939762881\n",
       "722                         Pasta Roni                        PASTA RONI\n",
       "558          test brand @1608313069400                               NaN\n",
       "61                        A&W Rootbeer                               NaN\n",
       "140                       Caleb's Kola                      CALEB'S KOLA\n",
       "634          test brand @1601939762909     TEST BRANDCODE @1601939762909"
      ]
     },
     "execution_count": 49,
     "metadata": {},
     "output_type": "execute_result"
    }
   ],
   "source": [
    "df_brands[['name', 'brandCode']].sample(15)"
   ]
  },
  {
   "cell_type": "markdown",
   "metadata": {},
   "source": [
    "### Workspace\n",
    "Comparing brandCode in the two tables and how they appear in their respecctive tables"
   ]
  },
  {
   "cell_type": "code",
   "execution_count": 25,
   "metadata": {},
   "outputs": [
    {
     "name": "stdout",
     "output_type": "stream",
     "text": [
      "['PEPSI' 'DORITOS' 'KLEENEX' 'KNORR' 'SWANSON' 'YUBAN'\n",
      " 'DOLE CHILLED FRUIT JUICES' 'KRAFT' 'TOSTITOS' 'RICE-A-RONI'\n",
      " 'KETTLE BRAND' 'PEPPERIDGE FARM' 'STOVE TOP' 'NATURE VALLEY' 'ARNOLD'\n",
      " 'GREY POUPON' 'KLONDIKE' 'CRACKER BARREL' 'QUAKER' 'PHILADELPHIA'\n",
      " 'TACO BELL' 'COTTONELLE' \"HELLMANN'S/BEST FOODS\" 'COOL WHIP'\n",
      " 'MOUNTAIN DEW' 'JELL-O' 'CLASSICO' 'LUNCHABLES' 'OSCAR MAYER' 'PLANTERS'\n",
      " 'VELVEETA' 'PREGO' 'PACIFIC FOODS' 'ORE-IDA' 'FINISH' 'JUST CRACK AN EGG'\n",
      " 'SARGENTO' 'CHEETOS' 'V8' 'HUGGIES' 'VIVA']\n",
      "------------------------------------------------\n",
      "['TACO BELL' 'COTTONELLE' 'SWANSON' 'KETTLE BRAND' 'DORITOS' 'KLONDIKE'\n",
      " 'PLANTERS' 'CHEETOS' 'COOL WHIP' 'TOSTITOS' 'NATURE VALLEY' 'GREY POUPON'\n",
      " 'PACIFIC FOODS' 'KRAFT' 'PEPPERIDGE FARM' 'QUAKER' 'OSCAR MAYER' 'YUBAN'\n",
      " 'SARGENTO' 'KNORR' 'FINISH' 'JELL-O' 'RICE-A-RONI' 'CRACKER BARREL'\n",
      " 'LUNCHABLES' 'HUGGIES' 'VELVEETA' 'JUST CRACK AN EGG' 'PEPSI'\n",
      " \"HELLMANN'S/BEST FOODS\" 'DOLE CHILLED FRUIT JUICES' 'CLASSICO' 'ARNOLD'\n",
      " 'MOUNTAIN DEW' 'V8' 'PREGO' 'PHILADELPHIA' 'KLEENEX' 'VIVA' 'ORE-IDA'\n",
      " 'STOVE TOP']\n"
     ]
    }
   ],
   "source": [
    "matchingbrandcode_receipts = unique_receipts_brandcode[np.isin(unique_receipts_brandcode, unique_brands_brandcode)]\n",
    "matchingbrandcode_brands = unique_brands_brandcode[np.isin(unique_brands_brandcode, unique_receipts_brandcode)]\n",
    "\n",
    "print(matchingbrandcode_receipts)\n",
    "print('------------------------------------------------')\n",
    "print(matchingbrandcode_brands)"
   ]
  },
  {
   "cell_type": "code",
   "execution_count": 37,
   "metadata": {},
   "outputs": [
    {
     "data": {
      "text/html": [
       "<div>\n",
       "<style scoped>\n",
       "    .dataframe tbody tr th:only-of-type {\n",
       "        vertical-align: middle;\n",
       "    }\n",
       "\n",
       "    .dataframe tbody tr th {\n",
       "        vertical-align: top;\n",
       "    }\n",
       "\n",
       "    .dataframe thead th {\n",
       "        text-align: right;\n",
       "    }\n",
       "</style>\n",
       "<table border=\"1\" class=\"dataframe\">\n",
       "  <thead>\n",
       "    <tr style=\"text-align: right;\">\n",
       "      <th></th>\n",
       "      <th>_id</th>\n",
       "      <th>barcode</th>\n",
       "      <th>category</th>\n",
       "      <th>categoryCode</th>\n",
       "      <th>cpg</th>\n",
       "      <th>name</th>\n",
       "      <th>topBrand</th>\n",
       "      <th>brandCode</th>\n",
       "      <th>barcode_length</th>\n",
       "    </tr>\n",
       "  </thead>\n",
       "  <tbody>\n",
       "    <tr>\n",
       "      <th>680</th>\n",
       "      <td>{'$oid': '5aa1b53ae4b086c8aad5e097'}</td>\n",
       "      <td>511111804277</td>\n",
       "      <td>Breakfast &amp; Cereal</td>\n",
       "      <td>NaN</td>\n",
       "      <td>{'$ref': 'Cogs', '$id': {'$oid': '559c2234e4b0...</td>\n",
       "      <td>JUST CRACK AN EGG Scramble Kit</td>\n",
       "      <td>0.0</td>\n",
       "      <td>JUST CRACK AN EGG</td>\n",
       "      <td>12</td>\n",
       "    </tr>\n",
       "  </tbody>\n",
       "</table>\n",
       "</div>"
      ],
      "text/plain": [
       "                                      _id       barcode            category  \\\n",
       "680  {'$oid': '5aa1b53ae4b086c8aad5e097'}  511111804277  Breakfast & Cereal   \n",
       "\n",
       "    categoryCode                                                cpg  \\\n",
       "680          NaN  {'$ref': 'Cogs', '$id': {'$oid': '559c2234e4b0...   \n",
       "\n",
       "                               name  topBrand          brandCode  \\\n",
       "680  JUST CRACK AN EGG Scramble Kit       0.0  JUST CRACK AN EGG   \n",
       "\n",
       "     barcode_length  \n",
       "680              12  "
      ]
     },
     "execution_count": 37,
     "metadata": {},
     "output_type": "execute_result"
    }
   ],
   "source": [
    "df_brands[df_brands['brandCode'].str.contains('EGG', case=False, na=False)]\n"
   ]
  },
  {
   "cell_type": "code",
   "execution_count": 29,
   "metadata": {},
   "outputs": [
    {
     "data": {
      "text/html": [
       "<div>\n",
       "<style scoped>\n",
       "    .dataframe tbody tr th:only-of-type {\n",
       "        vertical-align: middle;\n",
       "    }\n",
       "\n",
       "    .dataframe tbody tr th {\n",
       "        vertical-align: top;\n",
       "    }\n",
       "\n",
       "    .dataframe thead th {\n",
       "        text-align: right;\n",
       "    }\n",
       "</style>\n",
       "<table border=\"1\" class=\"dataframe\">\n",
       "  <thead>\n",
       "    <tr style=\"text-align: right;\">\n",
       "      <th></th>\n",
       "      <th>_id</th>\n",
       "      <th>bonusPointsEarned</th>\n",
       "      <th>bonusPointsEarnedReason</th>\n",
       "      <th>createDate</th>\n",
       "      <th>dateScanned</th>\n",
       "      <th>finishedDate</th>\n",
       "      <th>modifyDate</th>\n",
       "      <th>pointsAwardedDate</th>\n",
       "      <th>pointsEarned</th>\n",
       "      <th>purchaseDate</th>\n",
       "      <th>...</th>\n",
       "      <th>pointsEarned</th>\n",
       "      <th>targetPrice</th>\n",
       "      <th>competitiveProduct</th>\n",
       "      <th>originalFinalPrice</th>\n",
       "      <th>originalMetaBriteItemPrice</th>\n",
       "      <th>deleted</th>\n",
       "      <th>priceAfterCoupon</th>\n",
       "      <th>0</th>\n",
       "      <th>metabriteCampaignId</th>\n",
       "      <th>barcode_length</th>\n",
       "    </tr>\n",
       "  </thead>\n",
       "  <tbody>\n",
       "    <tr>\n",
       "      <th>426</th>\n",
       "      <td>{'$oid': '600b420b0a7214ada200000d'}</td>\n",
       "      <td>750.0</td>\n",
       "      <td>Receipt number 1 completed, bonus point schedu...</td>\n",
       "      <td>{'$date': 1611350539000}</td>\n",
       "      <td>{'$date': 1611350539000}</td>\n",
       "      <td>{'$date': 1611351137000}</td>\n",
       "      <td>{'$date': 1611351324000}</td>\n",
       "      <td>{'$date': 1611351137000}</td>\n",
       "      <td>1729.5</td>\n",
       "      <td>{'$date': 1611273600000}</td>\n",
       "      <td>...</td>\n",
       "      <td>NaN</td>\n",
       "      <td>NaN</td>\n",
       "      <td>True</td>\n",
       "      <td>NaN</td>\n",
       "      <td>NaN</td>\n",
       "      <td>NaN</td>\n",
       "      <td>NaN</td>\n",
       "      <td>NaN</td>\n",
       "      <td>VELVEETA CHEESY SKILLETS</td>\n",
       "      <td>12</td>\n",
       "    </tr>\n",
       "    <tr>\n",
       "      <th>446</th>\n",
       "      <td>{'$oid': '600f24970a720f053500002f'}</td>\n",
       "      <td>NaN</td>\n",
       "      <td>NaN</td>\n",
       "      <td>{'$date': 1611605143000}</td>\n",
       "      <td>{'$date': 1611605143000}</td>\n",
       "      <td>NaN</td>\n",
       "      <td>{'$date': 1611606325000}</td>\n",
       "      <td>NaN</td>\n",
       "      <td>NaN</td>\n",
       "      <td>{'$date': 1611532800000}</td>\n",
       "      <td>...</td>\n",
       "      <td>NaN</td>\n",
       "      <td>NaN</td>\n",
       "      <td>NaN</td>\n",
       "      <td>NaN</td>\n",
       "      <td>NaN</td>\n",
       "      <td>NaN</td>\n",
       "      <td>NaN</td>\n",
       "      <td>NaN</td>\n",
       "      <td>VELVEETA MACARONI &amp; CHEESE DINNER</td>\n",
       "      <td>12</td>\n",
       "    </tr>\n",
       "    <tr>\n",
       "      <th>446</th>\n",
       "      <td>{'$oid': '600f24970a720f053500002f'}</td>\n",
       "      <td>NaN</td>\n",
       "      <td>NaN</td>\n",
       "      <td>{'$date': 1611605143000}</td>\n",
       "      <td>{'$date': 1611605143000}</td>\n",
       "      <td>NaN</td>\n",
       "      <td>{'$date': 1611606325000}</td>\n",
       "      <td>NaN</td>\n",
       "      <td>NaN</td>\n",
       "      <td>{'$date': 1611532800000}</td>\n",
       "      <td>...</td>\n",
       "      <td>NaN</td>\n",
       "      <td>NaN</td>\n",
       "      <td>NaN</td>\n",
       "      <td>NaN</td>\n",
       "      <td>NaN</td>\n",
       "      <td>NaN</td>\n",
       "      <td>NaN</td>\n",
       "      <td>NaN</td>\n",
       "      <td>VELVEETA MACARONI &amp; CHEESE DINNER</td>\n",
       "      <td>12</td>\n",
       "    </tr>\n",
       "    <tr>\n",
       "      <th>447</th>\n",
       "      <td>{'$oid': '600f0cc70a720f053500002c'}</td>\n",
       "      <td>NaN</td>\n",
       "      <td>NaN</td>\n",
       "      <td>{'$date': 1611599047000}</td>\n",
       "      <td>{'$date': 1611599047000}</td>\n",
       "      <td>NaN</td>\n",
       "      <td>{'$date': 1611599887000}</td>\n",
       "      <td>NaN</td>\n",
       "      <td>NaN</td>\n",
       "      <td>{'$date': 1611532800000}</td>\n",
       "      <td>...</td>\n",
       "      <td>NaN</td>\n",
       "      <td>NaN</td>\n",
       "      <td>NaN</td>\n",
       "      <td>NaN</td>\n",
       "      <td>NaN</td>\n",
       "      <td>NaN</td>\n",
       "      <td>NaN</td>\n",
       "      <td>NaN</td>\n",
       "      <td>VELVEETA MACARONI &amp; CHEESE DINNER</td>\n",
       "      <td>12</td>\n",
       "    </tr>\n",
       "    <tr>\n",
       "      <th>447</th>\n",
       "      <td>{'$oid': '600f0cc70a720f053500002c'}</td>\n",
       "      <td>NaN</td>\n",
       "      <td>NaN</td>\n",
       "      <td>{'$date': 1611599047000}</td>\n",
       "      <td>{'$date': 1611599047000}</td>\n",
       "      <td>NaN</td>\n",
       "      <td>{'$date': 1611599887000}</td>\n",
       "      <td>NaN</td>\n",
       "      <td>NaN</td>\n",
       "      <td>{'$date': 1611532800000}</td>\n",
       "      <td>...</td>\n",
       "      <td>NaN</td>\n",
       "      <td>NaN</td>\n",
       "      <td>NaN</td>\n",
       "      <td>NaN</td>\n",
       "      <td>NaN</td>\n",
       "      <td>NaN</td>\n",
       "      <td>NaN</td>\n",
       "      <td>NaN</td>\n",
       "      <td>VELVEETA MACARONI &amp; CHEESE DINNER</td>\n",
       "      <td>12</td>\n",
       "    </tr>\n",
       "    <tr>\n",
       "      <th>469</th>\n",
       "      <td>{'$oid': '600f39c30a7214ada2000030'}</td>\n",
       "      <td>750.0</td>\n",
       "      <td>Receipt number 1 completed, bonus point schedu...</td>\n",
       "      <td>{'$date': 1611610563000}</td>\n",
       "      <td>{'$date': 1611610563000}</td>\n",
       "      <td>{'$date': 1611630363000}</td>\n",
       "      <td>{'$date': 1611630460000}</td>\n",
       "      <td>{'$date': 1611630363000}</td>\n",
       "      <td>7137.2</td>\n",
       "      <td>{'$date': 1611446400000}</td>\n",
       "      <td>...</td>\n",
       "      <td>NaN</td>\n",
       "      <td>NaN</td>\n",
       "      <td>True</td>\n",
       "      <td>NaN</td>\n",
       "      <td>NaN</td>\n",
       "      <td>NaN</td>\n",
       "      <td>5.99</td>\n",
       "      <td>NaN</td>\n",
       "      <td>VELVEETA MACARONI &amp; CHEESE DINNER</td>\n",
       "      <td>12</td>\n",
       "    </tr>\n",
       "    <tr>\n",
       "      <th>469</th>\n",
       "      <td>{'$oid': '600f39c30a7214ada2000030'}</td>\n",
       "      <td>750.0</td>\n",
       "      <td>Receipt number 1 completed, bonus point schedu...</td>\n",
       "      <td>{'$date': 1611610563000}</td>\n",
       "      <td>{'$date': 1611610563000}</td>\n",
       "      <td>{'$date': 1611630363000}</td>\n",
       "      <td>{'$date': 1611630460000}</td>\n",
       "      <td>{'$date': 1611630363000}</td>\n",
       "      <td>7137.2</td>\n",
       "      <td>{'$date': 1611446400000}</td>\n",
       "      <td>...</td>\n",
       "      <td>NaN</td>\n",
       "      <td>NaN</td>\n",
       "      <td>True</td>\n",
       "      <td>NaN</td>\n",
       "      <td>NaN</td>\n",
       "      <td>NaN</td>\n",
       "      <td>5.99</td>\n",
       "      <td>NaN</td>\n",
       "      <td>VELVEETA MACARONI &amp; CHEESE DINNER</td>\n",
       "      <td>12</td>\n",
       "    </tr>\n",
       "    <tr>\n",
       "      <th>543</th>\n",
       "      <td>{'$oid': '600f2fc80a720f0535000030'}</td>\n",
       "      <td>750.0</td>\n",
       "      <td>Receipt number 1 completed, bonus point schedu...</td>\n",
       "      <td>{'$date': 1611608008000}</td>\n",
       "      <td>{'$date': 1611608008000}</td>\n",
       "      <td>{'$date': 1611612263000}</td>\n",
       "      <td>{'$date': 1611873422000}</td>\n",
       "      <td>{'$date': 1611612263000}</td>\n",
       "      <td>4944.7</td>\n",
       "      <td>{'$date': 1611446400000}</td>\n",
       "      <td>...</td>\n",
       "      <td>NaN</td>\n",
       "      <td>NaN</td>\n",
       "      <td>True</td>\n",
       "      <td>NaN</td>\n",
       "      <td>NaN</td>\n",
       "      <td>NaN</td>\n",
       "      <td>NaN</td>\n",
       "      <td>NaN</td>\n",
       "      <td>VELVEETA MACARONI &amp; CHEESE DINNER</td>\n",
       "      <td>12</td>\n",
       "    </tr>\n",
       "    <tr>\n",
       "      <th>543</th>\n",
       "      <td>{'$oid': '600f2fc80a720f0535000030'}</td>\n",
       "      <td>750.0</td>\n",
       "      <td>Receipt number 1 completed, bonus point schedu...</td>\n",
       "      <td>{'$date': 1611608008000}</td>\n",
       "      <td>{'$date': 1611608008000}</td>\n",
       "      <td>{'$date': 1611612263000}</td>\n",
       "      <td>{'$date': 1611873422000}</td>\n",
       "      <td>{'$date': 1611612263000}</td>\n",
       "      <td>4944.7</td>\n",
       "      <td>{'$date': 1611446400000}</td>\n",
       "      <td>...</td>\n",
       "      <td>NaN</td>\n",
       "      <td>NaN</td>\n",
       "      <td>True</td>\n",
       "      <td>NaN</td>\n",
       "      <td>NaN</td>\n",
       "      <td>NaN</td>\n",
       "      <td>NaN</td>\n",
       "      <td>NaN</td>\n",
       "      <td>VELVEETA MACARONI &amp; CHEESE DINNER</td>\n",
       "      <td>12</td>\n",
       "    </tr>\n",
       "  </tbody>\n",
       "</table>\n",
       "<p>9 rows × 50 columns</p>\n",
       "</div>"
      ],
      "text/plain": [
       "                                      _id  bonusPointsEarned  \\\n",
       "426  {'$oid': '600b420b0a7214ada200000d'}              750.0   \n",
       "446  {'$oid': '600f24970a720f053500002f'}                NaN   \n",
       "446  {'$oid': '600f24970a720f053500002f'}                NaN   \n",
       "447  {'$oid': '600f0cc70a720f053500002c'}                NaN   \n",
       "447  {'$oid': '600f0cc70a720f053500002c'}                NaN   \n",
       "469  {'$oid': '600f39c30a7214ada2000030'}              750.0   \n",
       "469  {'$oid': '600f39c30a7214ada2000030'}              750.0   \n",
       "543  {'$oid': '600f2fc80a720f0535000030'}              750.0   \n",
       "543  {'$oid': '600f2fc80a720f0535000030'}              750.0   \n",
       "\n",
       "                               bonusPointsEarnedReason  \\\n",
       "426  Receipt number 1 completed, bonus point schedu...   \n",
       "446                                                NaN   \n",
       "446                                                NaN   \n",
       "447                                                NaN   \n",
       "447                                                NaN   \n",
       "469  Receipt number 1 completed, bonus point schedu...   \n",
       "469  Receipt number 1 completed, bonus point schedu...   \n",
       "543  Receipt number 1 completed, bonus point schedu...   \n",
       "543  Receipt number 1 completed, bonus point schedu...   \n",
       "\n",
       "                   createDate               dateScanned  \\\n",
       "426  {'$date': 1611350539000}  {'$date': 1611350539000}   \n",
       "446  {'$date': 1611605143000}  {'$date': 1611605143000}   \n",
       "446  {'$date': 1611605143000}  {'$date': 1611605143000}   \n",
       "447  {'$date': 1611599047000}  {'$date': 1611599047000}   \n",
       "447  {'$date': 1611599047000}  {'$date': 1611599047000}   \n",
       "469  {'$date': 1611610563000}  {'$date': 1611610563000}   \n",
       "469  {'$date': 1611610563000}  {'$date': 1611610563000}   \n",
       "543  {'$date': 1611608008000}  {'$date': 1611608008000}   \n",
       "543  {'$date': 1611608008000}  {'$date': 1611608008000}   \n",
       "\n",
       "                 finishedDate                modifyDate  \\\n",
       "426  {'$date': 1611351137000}  {'$date': 1611351324000}   \n",
       "446                       NaN  {'$date': 1611606325000}   \n",
       "446                       NaN  {'$date': 1611606325000}   \n",
       "447                       NaN  {'$date': 1611599887000}   \n",
       "447                       NaN  {'$date': 1611599887000}   \n",
       "469  {'$date': 1611630363000}  {'$date': 1611630460000}   \n",
       "469  {'$date': 1611630363000}  {'$date': 1611630460000}   \n",
       "543  {'$date': 1611612263000}  {'$date': 1611873422000}   \n",
       "543  {'$date': 1611612263000}  {'$date': 1611873422000}   \n",
       "\n",
       "            pointsAwardedDate  pointsEarned              purchaseDate  ...  \\\n",
       "426  {'$date': 1611351137000}        1729.5  {'$date': 1611273600000}  ...   \n",
       "446                       NaN           NaN  {'$date': 1611532800000}  ...   \n",
       "446                       NaN           NaN  {'$date': 1611532800000}  ...   \n",
       "447                       NaN           NaN  {'$date': 1611532800000}  ...   \n",
       "447                       NaN           NaN  {'$date': 1611532800000}  ...   \n",
       "469  {'$date': 1611630363000}        7137.2  {'$date': 1611446400000}  ...   \n",
       "469  {'$date': 1611630363000}        7137.2  {'$date': 1611446400000}  ...   \n",
       "543  {'$date': 1611612263000}        4944.7  {'$date': 1611446400000}  ...   \n",
       "543  {'$date': 1611612263000}        4944.7  {'$date': 1611446400000}  ...   \n",
       "\n",
       "     pointsEarned targetPrice  competitiveProduct originalFinalPrice  \\\n",
       "426           NaN         NaN                True                NaN   \n",
       "446           NaN         NaN                 NaN                NaN   \n",
       "446           NaN         NaN                 NaN                NaN   \n",
       "447           NaN         NaN                 NaN                NaN   \n",
       "447           NaN         NaN                 NaN                NaN   \n",
       "469           NaN         NaN                True                NaN   \n",
       "469           NaN         NaN                True                NaN   \n",
       "543           NaN         NaN                True                NaN   \n",
       "543           NaN         NaN                True                NaN   \n",
       "\n",
       "    originalMetaBriteItemPrice deleted priceAfterCoupon   0  \\\n",
       "426                        NaN     NaN              NaN NaN   \n",
       "446                        NaN     NaN              NaN NaN   \n",
       "446                        NaN     NaN              NaN NaN   \n",
       "447                        NaN     NaN              NaN NaN   \n",
       "447                        NaN     NaN              NaN NaN   \n",
       "469                        NaN     NaN             5.99 NaN   \n",
       "469                        NaN     NaN             5.99 NaN   \n",
       "543                        NaN     NaN              NaN NaN   \n",
       "543                        NaN     NaN              NaN NaN   \n",
       "\n",
       "                   metabriteCampaignId barcode_length  \n",
       "426           VELVEETA CHEESY SKILLETS             12  \n",
       "446  VELVEETA MACARONI & CHEESE DINNER             12  \n",
       "446  VELVEETA MACARONI & CHEESE DINNER             12  \n",
       "447  VELVEETA MACARONI & CHEESE DINNER             12  \n",
       "447  VELVEETA MACARONI & CHEESE DINNER             12  \n",
       "469  VELVEETA MACARONI & CHEESE DINNER             12  \n",
       "469  VELVEETA MACARONI & CHEESE DINNER             12  \n",
       "543  VELVEETA MACARONI & CHEESE DINNER             12  \n",
       "543  VELVEETA MACARONI & CHEESE DINNER             12  \n",
       "\n",
       "[9 rows x 50 columns]"
      ]
     },
     "execution_count": 29,
     "metadata": {},
     "output_type": "execute_result"
    }
   ],
   "source": [
    "df_receipts[df_receipts['brandCode'] == 'VELVEETA']"
   ]
  },
  {
   "cell_type": "code",
   "execution_count": 36,
   "metadata": {},
   "outputs": [
    {
     "data": {
      "text/plain": [
       "230                             .\n",
       "861          1915 Bolthouse Farms\n",
       "725           1_KRAFT Hockeyville\n",
       "723                          7 up\n",
       "61                   A&W Rootbeer\n",
       "                  ...            \n",
       "5       test brand @1612366146091\n",
       "6       test brand @1612366146133\n",
       "2       test brand @1612366146176\n",
       "4       test brand @1612366146827\n",
       "1166    test brand @1613158231643\n",
       "Name: name, Length: 1167, dtype: object"
      ]
     },
     "execution_count": 36,
     "metadata": {},
     "output_type": "execute_result"
    }
   ],
   "source": [
    "df_brands['name'].sort_values()"
   ]
  },
  {
   "cell_type": "code",
   "execution_count": null,
   "metadata": {},
   "outputs": [],
   "source": []
  }
 ],
 "metadata": {
  "kernelspec": {
   "display_name": "base",
   "language": "python",
   "name": "python3"
  },
  "language_info": {
   "codemirror_mode": {
    "name": "ipython",
    "version": 3
   },
   "file_extension": ".py",
   "mimetype": "text/x-python",
   "name": "python",
   "nbconvert_exporter": "python",
   "pygments_lexer": "ipython3",
   "version": "3.9.12"
  },
  "orig_nbformat": 4
 },
 "nbformat": 4,
 "nbformat_minor": 2
}
