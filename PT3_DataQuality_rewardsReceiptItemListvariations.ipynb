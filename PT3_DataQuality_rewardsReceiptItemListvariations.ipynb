{
 "cells": [
  {
   "cell_type": "markdown",
   "metadata": {},
   "source": [
    "**Fetch Rewards Coding Exercise**\n",
    "\n",
    "Pt3 - Data Quality\n",
    "\n",
    "Section 3 -rewardsReceiptItemList Variability"
   ]
  },
  {
   "cell_type": "code",
   "execution_count": 1,
   "metadata": {},
   "outputs": [],
   "source": [
    "import pandas as pd\n",
    "import numpy as np\n",
    "import matplotlib.pyplot as pyplot\n",
    "import seaborn as sns\n",
    "\n",
    "import duckdb"
   ]
  },
  {
   "cell_type": "markdown",
   "metadata": {},
   "source": [
    "* [Overview](#Overview)\n",
    "    * [Review rewardsReceiptItemList](#format)\n",
    "    * [Review df_items](#items)"
   ]
  },
  {
   "cell_type": "markdown",
   "metadata": {},
   "source": [
    "# Overview <a class=\"anchor\" id=\"Overview\"></a>\n",
    "\n",
    "Background: \n",
    "- Across the Receipts dataset, there are different variations of key-value pairs within the nested JSON of rewardsReceiptItemList.\n",
    "- df_items represents all of the posssible columns within rewardsReceiptItemList. In it's overview (.info()), we see that majority of the columns are mostly null values.\n",
    "\n",
    "Why This Matters:\n",
    "The variation of this column raises several concerns including:\n",
    "- Standardization - We want to ensure we are standardizing the values we're tracking within this field to ensure data quality\n",
    "- Future Organization of Data - Given that marjoity of the rows contain null values within df_items, we may be clouding our datasets with unneccesary information and/or we may want to consider creating new tables if we find certain values necessary. "
   ]
  },
  {
   "cell_type": "markdown",
   "metadata": {},
   "source": [
    "------------------------"
   ]
  },
  {
   "cell_type": "markdown",
   "metadata": {},
   "source": [
    "## rewardsReceiptItemList Format <a id=\"format\"></a>\n",
    "\n",
    "**Summary:** \n",
    "- Several rows within rewardsReceiptItemList have differerent lengths of key-value pairs"
   ]
  },
  {
   "cell_type": "code",
   "execution_count": 12,
   "metadata": {},
   "outputs": [],
   "source": [
    "#Data cleaning\n",
    "df_receipts = pd.read_json('receipts.gz', lines=True, compression='gzip')\n",
    "df_receipts['receipt_id'] = pd.json_normalize(df_receipts['_id'])['$oid']\n",
    "df_receipts.drop('_id', axis = 1, inplace = True)\n",
    "\n",
    "\n",
    "#Identify the date columns \n",
    "date_columns = list(set(['createDate', 'finishedDate', 'dateScanned', 'modifyDate', 'pointsAwardedDate', 'purchaseDate']))\n",
    "\n",
    "#Normalize the column JSON , extract UNIX date value\n",
    "#Convert UNIX Date value into datetime\n",
    "for col in date_columns:\n",
    "    if isinstance(df_receipts[col].iloc[0], dict):\n",
    "        df_receipts[col] = pd.json_normalize(df_receipts[col])['$date']\n",
    "    df_receipts[col] = pd.to_datetime(df_receipts[col], unit = 'ms', errors = 'coerce')"
   ]
  },
  {
   "cell_type": "code",
   "execution_count": 7,
   "metadata": {},
   "outputs": [
    {
     "data": {
      "text/plain": [
       "[{'barcode': '4011',\n",
       "  'description': 'ITEM NOT FOUND',\n",
       "  'finalPrice': '1',\n",
       "  'itemPrice': '1',\n",
       "  'partnerItemId': '1',\n",
       "  'quantityPurchased': 1}]"
      ]
     },
     "execution_count": 7,
     "metadata": {},
     "output_type": "execute_result"
    }
   ],
   "source": [
    "df_receipts['rewardsReceiptItemList'].iloc[10]"
   ]
  },
  {
   "cell_type": "code",
   "execution_count": 8,
   "metadata": {},
   "outputs": [
    {
     "data": {
      "text/plain": [
       "[{'barcode': '4011',\n",
       "  'description': 'ITEM NOT FOUND',\n",
       "  'finalPrice': '27.00',\n",
       "  'itemPrice': '27.00',\n",
       "  'needsFetchReview': False,\n",
       "  'partnerItemId': '1',\n",
       "  'preventTargetGapPoints': True,\n",
       "  'quantityPurchased': 5,\n",
       "  'userFlaggedBarcode': '4011',\n",
       "  'userFlaggedNewItem': True,\n",
       "  'userFlaggedPrice': '27.00',\n",
       "  'userFlaggedQuantity': 5}]"
      ]
     },
     "execution_count": 8,
     "metadata": {},
     "output_type": "execute_result"
    }
   ],
   "source": [
    "df_receipts['rewardsReceiptItemList'].iloc[25]"
   ]
  },
  {
   "cell_type": "code",
   "execution_count": 9,
   "metadata": {},
   "outputs": [
    {
     "data": {
      "text/plain": [
       "[{'barcode': '025800000135',\n",
       "  'description': 'SMART MADE Rosemary Grilled Beef & Vegetables 9 OZ Box',\n",
       "  'finalPrice': '5',\n",
       "  'itemPrice': '5',\n",
       "  'partnerItemId': '1',\n",
       "  'quantityPurchased': 1,\n",
       "  'rewardsProductPartnerId': '559c2234e4b06aca36af13c6'},\n",
       " {'barcode': '025800000135',\n",
       "  'description': 'SMART MADE Rosemary Grilled Beef & Vegetables 9 OZ Box',\n",
       "  'finalPrice': '5',\n",
       "  'itemPrice': '5',\n",
       "  'partnerItemId': '2',\n",
       "  'quantityPurchased': 1,\n",
       "  'rewardsProductPartnerId': '559c2234e4b06aca36af13c6'},\n",
       " {'barcode': '025800000135',\n",
       "  'description': 'SMART MADE Rosemary Grilled Beef & Vegetables 9 OZ Box',\n",
       "  'finalPrice': '5',\n",
       "  'itemPrice': '5',\n",
       "  'partnerItemId': '3',\n",
       "  'quantityPurchased': 1,\n",
       "  'rewardsProductPartnerId': '559c2234e4b06aca36af13c6'},\n",
       " {'barcode': '025800000135',\n",
       "  'description': 'SMART MADE Rosemary Grilled Beef & Vegetables 9 OZ Box',\n",
       "  'finalPrice': '5',\n",
       "  'itemPrice': '5',\n",
       "  'partnerItemId': '4',\n",
       "  'quantityPurchased': 1,\n",
       "  'rewardsProductPartnerId': '559c2234e4b06aca36af13c6'},\n",
       " {'barcode': '025800000135',\n",
       "  'description': 'SMART MADE Rosemary Grilled Beef & Vegetables 9 OZ Box',\n",
       "  'finalPrice': '5',\n",
       "  'itemPrice': '5',\n",
       "  'partnerItemId': '5',\n",
       "  'quantityPurchased': 1,\n",
       "  'rewardsProductPartnerId': '559c2234e4b06aca36af13c6'}]"
      ]
     },
     "execution_count": 9,
     "metadata": {},
     "output_type": "execute_result"
    }
   ],
   "source": [
    "df_receipts['rewardsReceiptItemList'].iloc[42]"
   ]
  },
  {
   "cell_type": "markdown",
   "metadata": {},
   "source": [
    "## df_items Explore <a id=\"items\"></a>\n",
    "**Items Table** - Extracting fields from the rewardsReceiptItemList in the Receipts table\n",
    "\n",
    "**Summary**: Majority of the columns within df_items are mostly null values."
   ]
  },
  {
   "cell_type": "code",
   "execution_count": 10,
   "metadata": {},
   "outputs": [],
   "source": [
    "df_receipts = df_receipts.explode('rewardsReceiptItemList')\n",
    "df_receipts['_id'] = pd.json_normalize(df_receipts['_id'])['$oid']\n",
    "df_items = pd.concat([df_receipts['_id'], df_receipts['rewardsReceiptItemList'].apply(pd.Series)], axis = 1)"
   ]
  },
  {
   "cell_type": "code",
   "execution_count": 11,
   "metadata": {},
   "outputs": [
    {
     "name": "stdout",
     "output_type": "stream",
     "text": [
      "<class 'pandas.core.frame.DataFrame'>\n",
      "Int64Index: 7381 entries, 0 to 1118\n",
      "Data columns (total 36 columns):\n",
      " #   Column                              Non-Null Count  Dtype  \n",
      "---  ------                              --------------  -----  \n",
      " 0   _id                                 7381 non-null   object \n",
      " 1   barcode                             3090 non-null   object \n",
      " 2   description                         6560 non-null   object \n",
      " 3   finalPrice                          6767 non-null   object \n",
      " 4   itemPrice                           6767 non-null   object \n",
      " 5   needsFetchReview                    813 non-null    object \n",
      " 6   partnerItemId                       6941 non-null   object \n",
      " 7   preventTargetGapPoints              358 non-null    object \n",
      " 8   quantityPurchased                   6767 non-null   float64\n",
      " 9   userFlaggedBarcode                  337 non-null    object \n",
      " 10  userFlaggedNewItem                  323 non-null    object \n",
      " 11  userFlaggedPrice                    299 non-null    object \n",
      " 12  userFlaggedQuantity                 299 non-null    float64\n",
      " 13  needsFetchReviewReason              219 non-null    object \n",
      " 14  pointsNotAwardedReason              340 non-null    object \n",
      " 15  pointsPayerId                       1267 non-null   object \n",
      " 16  rewardsGroup                        1731 non-null   object \n",
      " 17  rewardsProductPartnerId             2269 non-null   object \n",
      " 18  userFlaggedDescription              205 non-null    object \n",
      " 19  originalMetaBriteBarcode            71 non-null     object \n",
      " 20  originalMetaBriteDescription        10 non-null     object \n",
      " 21  brandCode                           2600 non-null   object \n",
      " 22  competitorRewardsGroup              275 non-null    object \n",
      " 23  discountedItemPrice                 5769 non-null   object \n",
      " 24  originalReceiptItemText             5760 non-null   object \n",
      " 25  itemNumber                          153 non-null    object \n",
      " 26  originalMetaBriteQuantityPurchased  15 non-null     float64\n",
      " 27  pointsEarned                        927 non-null    object \n",
      " 28  targetPrice                         378 non-null    object \n",
      " 29  competitiveProduct                  645 non-null    object \n",
      " 30  originalFinalPrice                  9 non-null      object \n",
      " 31  originalMetaBriteItemPrice          9 non-null      object \n",
      " 32  deleted                             9 non-null      object \n",
      " 33  priceAfterCoupon                    956 non-null    object \n",
      " 34  0                                   0 non-null      float64\n",
      " 35  metabriteCampaignId                 863 non-null    object \n",
      "dtypes: float64(4), object(32)\n",
      "memory usage: 2.1+ MB\n"
     ]
    }
   ],
   "source": [
    "df_items.info()"
   ]
  },
  {
   "cell_type": "code",
   "execution_count": null,
   "metadata": {},
   "outputs": [],
   "source": []
  }
 ],
 "metadata": {
  "kernelspec": {
   "display_name": "base",
   "language": "python",
   "name": "python3"
  },
  "language_info": {
   "codemirror_mode": {
    "name": "ipython",
    "version": 3
   },
   "file_extension": ".py",
   "mimetype": "text/x-python",
   "name": "python",
   "nbconvert_exporter": "python",
   "pygments_lexer": "ipython3",
   "version": "3.9.12"
  },
  "orig_nbformat": 4
 },
 "nbformat": 4,
 "nbformat_minor": 2
}
