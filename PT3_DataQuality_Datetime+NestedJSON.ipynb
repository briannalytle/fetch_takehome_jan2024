{
 "cells": [
  {
   "cell_type": "markdown",
   "metadata": {},
   "source": [
    "**Fetch Rewards Coding Exercise**\n",
    "\n",
    "Pt3 - Data Quality\n",
    "\n",
    "Section 2 - Nest JSON & Date Imports"
   ]
  },
  {
   "cell_type": "code",
   "execution_count": 1,
   "metadata": {},
   "outputs": [],
   "source": [
    "import pandas as pd\n",
    "import numpy as np\n",
    "import matplotlib.pyplot as pyplot\n",
    "import seaborn as sns\n",
    "\n",
    "import duckdb"
   ]
  },
  {
   "cell_type": "markdown",
   "metadata": {},
   "source": [
    "* [Overview](#Overview)\n",
    "    * [Import Tables & Reivew](#import)\n",
    "    * [Recommendations for Cleaning](#cleaning)"
   ]
  },
  {
   "cell_type": "markdown",
   "metadata": {},
   "source": [
    "# Overview <a class=\"anchor\" id=\"Overview\"></a>\n",
    "**Evaluating (i) nested JSON across the tables and (ii) formats of date-related columns**\n",
    "\n",
    "\n",
    "Background: \n",
    "- Across all 3 tables, they have columns contained nested json fields and have their date values represented in a Unix Timestamp. \n",
    "\n",
    "Why This Matters:\n",
    "- It's vital for final tables viewed by analysts, data scientists, and other data professionals to be as clean as possible. This frees up quering/data cleaning time during analysis projects and ensures data values are represented to the most comprehensvie amnner. "
   ]
  },
  {
   "cell_type": "markdown",
   "metadata": {},
   "source": [
    "------------------------"
   ]
  },
  {
   "attachments": {},
   "cell_type": "markdown",
   "metadata": {},
   "source": [
    "## Import & Review gz files <a id=\"import\"></a>\n",
    "\n",
    "**Summary:** Across all 3 tables, they have columns contained nested json fields and have their date values represented in a Unix Timestamp. "
   ]
  },
  {
   "cell_type": "code",
   "execution_count": 9,
   "metadata": {},
   "outputs": [],
   "source": [
    "df_brands = pd.read_json('brands.gz', lines=True, compression='gzip')\n",
    "df_receipts = pd.read_json('receipts.gz', lines=True, compression='gzip')\n",
    "df_users = pd.read_json('users.gz', lines=True, compression='gzip')"
   ]
  },
  {
   "cell_type": "code",
   "execution_count": 3,
   "metadata": {},
   "outputs": [
    {
     "data": {
      "text/html": [
       "<div>\n",
       "<style scoped>\n",
       "    .dataframe tbody tr th:only-of-type {\n",
       "        vertical-align: middle;\n",
       "    }\n",
       "\n",
       "    .dataframe tbody tr th {\n",
       "        vertical-align: top;\n",
       "    }\n",
       "\n",
       "    .dataframe thead th {\n",
       "        text-align: right;\n",
       "    }\n",
       "</style>\n",
       "<table border=\"1\" class=\"dataframe\">\n",
       "  <thead>\n",
       "    <tr style=\"text-align: right;\">\n",
       "      <th></th>\n",
       "      <th>_id</th>\n",
       "      <th>barcode</th>\n",
       "      <th>category</th>\n",
       "      <th>categoryCode</th>\n",
       "      <th>cpg</th>\n",
       "      <th>name</th>\n",
       "      <th>topBrand</th>\n",
       "      <th>brandCode</th>\n",
       "    </tr>\n",
       "  </thead>\n",
       "  <tbody>\n",
       "    <tr>\n",
       "      <th>0</th>\n",
       "      <td>{'$oid': '601ac115be37ce2ead437551'}</td>\n",
       "      <td>511111019862</td>\n",
       "      <td>Baking</td>\n",
       "      <td>BAKING</td>\n",
       "      <td>{'$id': {'$oid': '601ac114be37ce2ead437550'}, ...</td>\n",
       "      <td>test brand @1612366101024</td>\n",
       "      <td>0.0</td>\n",
       "      <td>NaN</td>\n",
       "    </tr>\n",
       "    <tr>\n",
       "      <th>1</th>\n",
       "      <td>{'$oid': '601c5460be37ce2ead43755f'}</td>\n",
       "      <td>511111519928</td>\n",
       "      <td>Beverages</td>\n",
       "      <td>BEVERAGES</td>\n",
       "      <td>{'$id': {'$oid': '5332f5fbe4b03c9a25efd0ba'}, ...</td>\n",
       "      <td>Starbucks</td>\n",
       "      <td>0.0</td>\n",
       "      <td>STARBUCKS</td>\n",
       "    </tr>\n",
       "    <tr>\n",
       "      <th>2</th>\n",
       "      <td>{'$oid': '601ac142be37ce2ead43755d'}</td>\n",
       "      <td>511111819905</td>\n",
       "      <td>Baking</td>\n",
       "      <td>BAKING</td>\n",
       "      <td>{'$id': {'$oid': '601ac142be37ce2ead437559'}, ...</td>\n",
       "      <td>test brand @1612366146176</td>\n",
       "      <td>0.0</td>\n",
       "      <td>TEST BRANDCODE @1612366146176</td>\n",
       "    </tr>\n",
       "  </tbody>\n",
       "</table>\n",
       "</div>"
      ],
      "text/plain": [
       "                                    _id       barcode   category categoryCode  \\\n",
       "0  {'$oid': '601ac115be37ce2ead437551'}  511111019862     Baking       BAKING   \n",
       "1  {'$oid': '601c5460be37ce2ead43755f'}  511111519928  Beverages    BEVERAGES   \n",
       "2  {'$oid': '601ac142be37ce2ead43755d'}  511111819905     Baking       BAKING   \n",
       "\n",
       "                                                 cpg  \\\n",
       "0  {'$id': {'$oid': '601ac114be37ce2ead437550'}, ...   \n",
       "1  {'$id': {'$oid': '5332f5fbe4b03c9a25efd0ba'}, ...   \n",
       "2  {'$id': {'$oid': '601ac142be37ce2ead437559'}, ...   \n",
       "\n",
       "                        name  topBrand                      brandCode  \n",
       "0  test brand @1612366101024       0.0                            NaN  \n",
       "1                  Starbucks       0.0                      STARBUCKS  \n",
       "2  test brand @1612366146176       0.0  TEST BRANDCODE @1612366146176  "
      ]
     },
     "execution_count": 3,
     "metadata": {},
     "output_type": "execute_result"
    }
   ],
   "source": [
    "df_brands.head(3)"
   ]
  },
  {
   "cell_type": "code",
   "execution_count": 4,
   "metadata": {},
   "outputs": [
    {
     "data": {
      "text/html": [
       "<div>\n",
       "<style scoped>\n",
       "    .dataframe tbody tr th:only-of-type {\n",
       "        vertical-align: middle;\n",
       "    }\n",
       "\n",
       "    .dataframe tbody tr th {\n",
       "        vertical-align: top;\n",
       "    }\n",
       "\n",
       "    .dataframe thead th {\n",
       "        text-align: right;\n",
       "    }\n",
       "</style>\n",
       "<table border=\"1\" class=\"dataframe\">\n",
       "  <thead>\n",
       "    <tr style=\"text-align: right;\">\n",
       "      <th></th>\n",
       "      <th>_id</th>\n",
       "      <th>bonusPointsEarned</th>\n",
       "      <th>bonusPointsEarnedReason</th>\n",
       "      <th>createDate</th>\n",
       "      <th>dateScanned</th>\n",
       "      <th>finishedDate</th>\n",
       "      <th>modifyDate</th>\n",
       "      <th>pointsAwardedDate</th>\n",
       "      <th>pointsEarned</th>\n",
       "      <th>purchaseDate</th>\n",
       "      <th>purchasedItemCount</th>\n",
       "      <th>rewardsReceiptItemList</th>\n",
       "      <th>rewardsReceiptStatus</th>\n",
       "      <th>totalSpent</th>\n",
       "      <th>userId</th>\n",
       "    </tr>\n",
       "  </thead>\n",
       "  <tbody>\n",
       "    <tr>\n",
       "      <th>0</th>\n",
       "      <td>{'$oid': '5ff1e1eb0a720f0523000575'}</td>\n",
       "      <td>500.0</td>\n",
       "      <td>Receipt number 2 completed, bonus point schedu...</td>\n",
       "      <td>{'$date': 1609687531000}</td>\n",
       "      <td>{'$date': 1609687531000}</td>\n",
       "      <td>{'$date': 1609687531000}</td>\n",
       "      <td>{'$date': 1609687536000}</td>\n",
       "      <td>{'$date': 1609687531000}</td>\n",
       "      <td>500.0</td>\n",
       "      <td>{'$date': 1609632000000}</td>\n",
       "      <td>5.0</td>\n",
       "      <td>[{'barcode': '4011', 'description': 'ITEM NOT ...</td>\n",
       "      <td>FINISHED</td>\n",
       "      <td>26.0</td>\n",
       "      <td>5ff1e1eacfcf6c399c274ae6</td>\n",
       "    </tr>\n",
       "    <tr>\n",
       "      <th>1</th>\n",
       "      <td>{'$oid': '5ff1e1bb0a720f052300056b'}</td>\n",
       "      <td>150.0</td>\n",
       "      <td>Receipt number 5 completed, bonus point schedu...</td>\n",
       "      <td>{'$date': 1609687483000}</td>\n",
       "      <td>{'$date': 1609687483000}</td>\n",
       "      <td>{'$date': 1609687483000}</td>\n",
       "      <td>{'$date': 1609687488000}</td>\n",
       "      <td>{'$date': 1609687483000}</td>\n",
       "      <td>150.0</td>\n",
       "      <td>{'$date': 1609601083000}</td>\n",
       "      <td>2.0</td>\n",
       "      <td>[{'barcode': '4011', 'description': 'ITEM NOT ...</td>\n",
       "      <td>FINISHED</td>\n",
       "      <td>11.0</td>\n",
       "      <td>5ff1e194b6a9d73a3a9f1052</td>\n",
       "    </tr>\n",
       "    <tr>\n",
       "      <th>2</th>\n",
       "      <td>{'$oid': '5ff1e1f10a720f052300057a'}</td>\n",
       "      <td>5.0</td>\n",
       "      <td>All-receipts receipt bonus</td>\n",
       "      <td>{'$date': 1609687537000}</td>\n",
       "      <td>{'$date': 1609687537000}</td>\n",
       "      <td>NaN</td>\n",
       "      <td>{'$date': 1609687542000}</td>\n",
       "      <td>NaN</td>\n",
       "      <td>5.0</td>\n",
       "      <td>{'$date': 1609632000000}</td>\n",
       "      <td>1.0</td>\n",
       "      <td>[{'needsFetchReview': False, 'partnerItemId': ...</td>\n",
       "      <td>REJECTED</td>\n",
       "      <td>10.0</td>\n",
       "      <td>5ff1e1f1cfcf6c399c274b0b</td>\n",
       "    </tr>\n",
       "  </tbody>\n",
       "</table>\n",
       "</div>"
      ],
      "text/plain": [
       "                                    _id  bonusPointsEarned  \\\n",
       "0  {'$oid': '5ff1e1eb0a720f0523000575'}              500.0   \n",
       "1  {'$oid': '5ff1e1bb0a720f052300056b'}              150.0   \n",
       "2  {'$oid': '5ff1e1f10a720f052300057a'}                5.0   \n",
       "\n",
       "                             bonusPointsEarnedReason  \\\n",
       "0  Receipt number 2 completed, bonus point schedu...   \n",
       "1  Receipt number 5 completed, bonus point schedu...   \n",
       "2                         All-receipts receipt bonus   \n",
       "\n",
       "                 createDate               dateScanned  \\\n",
       "0  {'$date': 1609687531000}  {'$date': 1609687531000}   \n",
       "1  {'$date': 1609687483000}  {'$date': 1609687483000}   \n",
       "2  {'$date': 1609687537000}  {'$date': 1609687537000}   \n",
       "\n",
       "               finishedDate                modifyDate  \\\n",
       "0  {'$date': 1609687531000}  {'$date': 1609687536000}   \n",
       "1  {'$date': 1609687483000}  {'$date': 1609687488000}   \n",
       "2                       NaN  {'$date': 1609687542000}   \n",
       "\n",
       "          pointsAwardedDate  pointsEarned              purchaseDate  \\\n",
       "0  {'$date': 1609687531000}         500.0  {'$date': 1609632000000}   \n",
       "1  {'$date': 1609687483000}         150.0  {'$date': 1609601083000}   \n",
       "2                       NaN           5.0  {'$date': 1609632000000}   \n",
       "\n",
       "   purchasedItemCount                             rewardsReceiptItemList  \\\n",
       "0                 5.0  [{'barcode': '4011', 'description': 'ITEM NOT ...   \n",
       "1                 2.0  [{'barcode': '4011', 'description': 'ITEM NOT ...   \n",
       "2                 1.0  [{'needsFetchReview': False, 'partnerItemId': ...   \n",
       "\n",
       "  rewardsReceiptStatus  totalSpent                    userId  \n",
       "0             FINISHED        26.0  5ff1e1eacfcf6c399c274ae6  \n",
       "1             FINISHED        11.0  5ff1e194b6a9d73a3a9f1052  \n",
       "2             REJECTED        10.0  5ff1e1f1cfcf6c399c274b0b  "
      ]
     },
     "execution_count": 4,
     "metadata": {},
     "output_type": "execute_result"
    }
   ],
   "source": [
    "df_receipts.head(3)"
   ]
  },
  {
   "cell_type": "code",
   "execution_count": 5,
   "metadata": {},
   "outputs": [
    {
     "data": {
      "text/html": [
       "<div>\n",
       "<style scoped>\n",
       "    .dataframe tbody tr th:only-of-type {\n",
       "        vertical-align: middle;\n",
       "    }\n",
       "\n",
       "    .dataframe tbody tr th {\n",
       "        vertical-align: top;\n",
       "    }\n",
       "\n",
       "    .dataframe thead th {\n",
       "        text-align: right;\n",
       "    }\n",
       "</style>\n",
       "<table border=\"1\" class=\"dataframe\">\n",
       "  <thead>\n",
       "    <tr style=\"text-align: right;\">\n",
       "      <th></th>\n",
       "      <th>_id</th>\n",
       "      <th>active</th>\n",
       "      <th>createdDate</th>\n",
       "      <th>lastLogin</th>\n",
       "      <th>role</th>\n",
       "      <th>signUpSource</th>\n",
       "      <th>state</th>\n",
       "    </tr>\n",
       "  </thead>\n",
       "  <tbody>\n",
       "    <tr>\n",
       "      <th>0</th>\n",
       "      <td>{'$oid': '5ff1e194b6a9d73a3a9f1052'}</td>\n",
       "      <td>True</td>\n",
       "      <td>{'$date': 1609687444800}</td>\n",
       "      <td>{'$date': 1609687537858}</td>\n",
       "      <td>consumer</td>\n",
       "      <td>Email</td>\n",
       "      <td>WI</td>\n",
       "    </tr>\n",
       "    <tr>\n",
       "      <th>1</th>\n",
       "      <td>{'$oid': '5ff1e194b6a9d73a3a9f1052'}</td>\n",
       "      <td>True</td>\n",
       "      <td>{'$date': 1609687444800}</td>\n",
       "      <td>{'$date': 1609687537858}</td>\n",
       "      <td>consumer</td>\n",
       "      <td>Email</td>\n",
       "      <td>WI</td>\n",
       "    </tr>\n",
       "    <tr>\n",
       "      <th>2</th>\n",
       "      <td>{'$oid': '5ff1e194b6a9d73a3a9f1052'}</td>\n",
       "      <td>True</td>\n",
       "      <td>{'$date': 1609687444800}</td>\n",
       "      <td>{'$date': 1609687537858}</td>\n",
       "      <td>consumer</td>\n",
       "      <td>Email</td>\n",
       "      <td>WI</td>\n",
       "    </tr>\n",
       "  </tbody>\n",
       "</table>\n",
       "</div>"
      ],
      "text/plain": [
       "                                    _id  active               createdDate  \\\n",
       "0  {'$oid': '5ff1e194b6a9d73a3a9f1052'}    True  {'$date': 1609687444800}   \n",
       "1  {'$oid': '5ff1e194b6a9d73a3a9f1052'}    True  {'$date': 1609687444800}   \n",
       "2  {'$oid': '5ff1e194b6a9d73a3a9f1052'}    True  {'$date': 1609687444800}   \n",
       "\n",
       "                  lastLogin      role signUpSource state  \n",
       "0  {'$date': 1609687537858}  consumer        Email    WI  \n",
       "1  {'$date': 1609687537858}  consumer        Email    WI  \n",
       "2  {'$date': 1609687537858}  consumer        Email    WI  "
      ]
     },
     "execution_count": 5,
     "metadata": {},
     "output_type": "execute_result"
    }
   ],
   "source": [
    "df_users.head(3)"
   ]
  },
  {
   "cell_type": "markdown",
   "metadata": {},
   "source": [
    "-------------------------------------\n"
   ]
  },
  {
   "cell_type": "markdown",
   "metadata": {},
   "source": [
    "## Cleaning Tables <a id=\"cleaning\"></a>"
   ]
  },
  {
   "cell_type": "markdown",
   "metadata": {},
   "source": [
    "**df_brands cleaning**"
   ]
  },
  {
   "cell_type": "code",
   "execution_count": null,
   "metadata": {},
   "outputs": [],
   "source": [
    "#Extracting the id value number from _id and renaming it to brand_id\n",
    "# Suggestion to edit '_id' to say brand_id\n",
    "df_brands['brand_id'] = pd.json_normalize(df_brands['_id'])['$oid']\n",
    "df_brands.drop('_id', axis = 1, inplace = True)\n",
    "\n",
    "#Extracting values from the 'cpg' column and renaming the separate columns\n",
    "df_cpg_normalized = pd.json_normalize(df_brands['cpg'], sep = '_').rename(columns = {\n",
    "    '$ref': 'cpg_ref',\n",
    "    '$id_$oid': 'cpg_id'\n",
    "})\n",
    "\n",
    "df_brands['cpg_ref'] = df_cpg_normalized['cpg_ref']\n",
    "df_brands['cpg_id'] = df_cpg_normalized['cpg_id']\n",
    "df_brands = df_brands.drop(columns = ['cpg'])"
   ]
  },
  {
   "cell_type": "code",
   "execution_count": 11,
   "metadata": {},
   "outputs": [
    {
     "data": {
      "text/html": [
       "<div>\n",
       "<style scoped>\n",
       "    .dataframe tbody tr th:only-of-type {\n",
       "        vertical-align: middle;\n",
       "    }\n",
       "\n",
       "    .dataframe tbody tr th {\n",
       "        vertical-align: top;\n",
       "    }\n",
       "\n",
       "    .dataframe thead th {\n",
       "        text-align: right;\n",
       "    }\n",
       "</style>\n",
       "<table border=\"1\" class=\"dataframe\">\n",
       "  <thead>\n",
       "    <tr style=\"text-align: right;\">\n",
       "      <th></th>\n",
       "      <th>barcode</th>\n",
       "      <th>category</th>\n",
       "      <th>categoryCode</th>\n",
       "      <th>name</th>\n",
       "      <th>topBrand</th>\n",
       "      <th>brandCode</th>\n",
       "      <th>brand_id</th>\n",
       "      <th>cpg_ref</th>\n",
       "      <th>cpg_id</th>\n",
       "    </tr>\n",
       "  </thead>\n",
       "  <tbody>\n",
       "    <tr>\n",
       "      <th>0</th>\n",
       "      <td>511111019862</td>\n",
       "      <td>Baking</td>\n",
       "      <td>BAKING</td>\n",
       "      <td>test brand @1612366101024</td>\n",
       "      <td>0.0</td>\n",
       "      <td>NaN</td>\n",
       "      <td>601ac115be37ce2ead437551</td>\n",
       "      <td>Cogs</td>\n",
       "      <td>601ac114be37ce2ead437550</td>\n",
       "    </tr>\n",
       "    <tr>\n",
       "      <th>1</th>\n",
       "      <td>511111519928</td>\n",
       "      <td>Beverages</td>\n",
       "      <td>BEVERAGES</td>\n",
       "      <td>Starbucks</td>\n",
       "      <td>0.0</td>\n",
       "      <td>STARBUCKS</td>\n",
       "      <td>601c5460be37ce2ead43755f</td>\n",
       "      <td>Cogs</td>\n",
       "      <td>5332f5fbe4b03c9a25efd0ba</td>\n",
       "    </tr>\n",
       "    <tr>\n",
       "      <th>2</th>\n",
       "      <td>511111819905</td>\n",
       "      <td>Baking</td>\n",
       "      <td>BAKING</td>\n",
       "      <td>test brand @1612366146176</td>\n",
       "      <td>0.0</td>\n",
       "      <td>TEST BRANDCODE @1612366146176</td>\n",
       "      <td>601ac142be37ce2ead43755d</td>\n",
       "      <td>Cogs</td>\n",
       "      <td>601ac142be37ce2ead437559</td>\n",
       "    </tr>\n",
       "  </tbody>\n",
       "</table>\n",
       "</div>"
      ],
      "text/plain": [
       "        barcode   category categoryCode                       name  topBrand  \\\n",
       "0  511111019862     Baking       BAKING  test brand @1612366101024       0.0   \n",
       "1  511111519928  Beverages    BEVERAGES                  Starbucks       0.0   \n",
       "2  511111819905     Baking       BAKING  test brand @1612366146176       0.0   \n",
       "\n",
       "                       brandCode                  brand_id cpg_ref  \\\n",
       "0                            NaN  601ac115be37ce2ead437551    Cogs   \n",
       "1                      STARBUCKS  601c5460be37ce2ead43755f    Cogs   \n",
       "2  TEST BRANDCODE @1612366146176  601ac142be37ce2ead43755d    Cogs   \n",
       "\n",
       "                     cpg_id  \n",
       "0  601ac114be37ce2ead437550  \n",
       "1  5332f5fbe4b03c9a25efd0ba  \n",
       "2  601ac142be37ce2ead437559  "
      ]
     },
     "execution_count": 11,
     "metadata": {},
     "output_type": "execute_result"
    }
   ],
   "source": [
    "df_brands.head(3)"
   ]
  },
  {
   "cell_type": "markdown",
   "metadata": {},
   "source": [
    "**df_receipts cleaning**"
   ]
  },
  {
   "cell_type": "code",
   "execution_count": 12,
   "metadata": {},
   "outputs": [],
   "source": [
    "#Extract id value number from _id and renaming it to receipt_id\n",
    "# Suggestion to edit '_id' to receipt_id\n",
    "df_receipts['receipt_id'] = pd.json_normalize(df_receipts['_id'])['$oid']\n",
    "df_receipts.drop('_id', axis = 1, inplace = True)\n",
    "\n",
    "\n",
    "#Identify the date columns \n",
    "date_columns = list(set(['createDate', 'finishedDate', 'dateScanned', 'modifyDate', 'pointsAwardedDate', 'purchaseDate']))\n",
    "\n",
    "#Normalize the column JSON , extract UNIX date value\n",
    "#Convert UNIX Date value into datetime\n",
    "for col in date_columns:\n",
    "    if isinstance(df_receipts[col].iloc[0], dict):\n",
    "        df_receipts[col] = pd.json_normalize(df_receipts[col])['$date']\n",
    "    df_receipts[col] = pd.to_datetime(df_receipts[col], unit = 'ms', errors = 'coerce')"
   ]
  },
  {
   "cell_type": "markdown",
   "metadata": {},
   "source": [
    "**df_users cleaning**"
   ]
  },
  {
   "cell_type": "code",
   "execution_count": 13,
   "metadata": {},
   "outputs": [],
   "source": [
    "#Extract id value number from _id and renaming it to receipt_id\n",
    "# Suggestion to edit '_id' to user_id\n",
    "df_users['user_id'] = pd.json_normalize(df_users['_id'])['$oid']\n",
    "df_users.drop('_id', axis = 1, inplace = True)\n",
    "\n",
    "#Normalize date related column JSONs and convert to datetime\n",
    "df_users['createdDate'] = pd.json_normalize(df_users['createdDate'])['$date']\n",
    "df_users['lastLogin'] = pd.json_normalize(df_users['lastLogin'])['$date']\n",
    "\n",
    "df_users['createdDate'] = pd.to_datetime(df_users['createdDate'], unit = 'ms', errors = 'coerce')\n",
    "df_users['lastLogin'] = pd.to_datetime(df_users['lastLogin'], unit = 'ms', errors= 'coerce')"
   ]
  }
 ],
 "metadata": {
  "kernelspec": {
   "display_name": "base",
   "language": "python",
   "name": "python3"
  },
  "language_info": {
   "codemirror_mode": {
    "name": "ipython",
    "version": 3
   },
   "file_extension": ".py",
   "mimetype": "text/x-python",
   "name": "python",
   "nbconvert_exporter": "python",
   "pygments_lexer": "ipython3",
   "version": "3.9.12"
  },
  "orig_nbformat": 4
 },
 "nbformat": 4,
 "nbformat_minor": 2
}
